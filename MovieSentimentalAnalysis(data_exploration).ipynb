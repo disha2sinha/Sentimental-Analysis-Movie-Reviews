{
  "nbformat": 4,
  "nbformat_minor": 0,
  "metadata": {
    "colab": {
      "name": "MovieSentimentalAnalysis(data_exploration).ipynb",
      "version": "0.3.2",
      "provenance": [],
      "collapsed_sections": [],
      "include_colab_link": true
    },
    "kernelspec": {
      "name": "python3",
      "display_name": "Python 3"
    },
    "accelerator": "GPU"
  },
  "cells": [
    {
      "cell_type": "markdown",
      "metadata": {
        "id": "view-in-github",
        "colab_type": "text"
      },
      "source": [
        "<a href=\"https://colab.research.google.com/github/disha2sinha/Sentimental-Analysis-Movie-Reviews/blob/master/MovieSentimentalAnalysis(data_exploration).ipynb\" target=\"_parent\"><img src=\"https://colab.research.google.com/assets/colab-badge.svg\" alt=\"Open In Colab\"/></a>"
      ]
    },
    {
      "cell_type": "code",
      "metadata": {
        "id": "QgAm7FFoHGAZ",
        "colab_type": "code",
        "colab": {
          "base_uri": "https://localhost:8080/",
          "height": 35
        },
        "outputId": "8cc3cdb7-59f2-4a07-b9fb-95d43084c009"
      },
      "source": [
        "import tensorflow as tf\n",
        "tf.test.gpu_device_name()"
      ],
      "execution_count": 1,
      "outputs": [
        {
          "output_type": "execute_result",
          "data": {
            "text/plain": [
              "'/device:GPU:0'"
            ]
          },
          "metadata": {
            "tags": []
          },
          "execution_count": 1
        }
      ]
    },
    {
      "cell_type": "code",
      "metadata": {
        "id": "Nd8smHcTHN-x",
        "colab_type": "code",
        "colab": {
          "base_uri": "https://localhost:8080/",
          "height": 253
        },
        "outputId": "c2729ea6-5acd-401e-e79c-c350b4ddcca9"
      },
      "source": [
        "!ln -sf /opt/bin/nvidia-smi /usr/bin/nvidia-smi\n",
        "!pip install gputil\n",
        "!pip install psutil\n",
        "!pip install humanize\n",
        "import psutil\n",
        "import humanize\n",
        "import os\n",
        "import GPUtil as GPU\n",
        "GPUs = GPU.getGPUs()\n",
        "# XXX: only one GPU on Colab and isn’t guaranteed\n",
        "gpu = GPUs[0]\n",
        "def printm():\n",
        " process = psutil.Process(os.getpid())\n",
        " print(\"Gen RAM Free: \" + humanize.naturalsize( psutil.virtual_memory().available ), \" | Proc size: \" + humanize.naturalsize( process.memory_info().rss))\n",
        " print(\"GPU RAM Free: {0:.0f}MB | Used: {1:.0f}MB | Util {2:3.0f}% | Total {3:.0f}MB\".format(gpu.memoryFree, gpu.memoryUsed, gpu.memoryUtil*100, gpu.memoryTotal))\n",
        "printm() "
      ],
      "execution_count": 1,
      "outputs": [
        {
          "output_type": "stream",
          "text": [
            "Collecting gputil\n",
            "  Downloading https://files.pythonhosted.org/packages/ed/0e/5c61eedde9f6c87713e89d794f01e378cfd9565847d4576fa627d758c554/GPUtil-1.4.0.tar.gz\n",
            "Building wheels for collected packages: gputil\n",
            "  Building wheel for gputil (setup.py) ... \u001b[?25l\u001b[?25hdone\n",
            "  Created wheel for gputil: filename=GPUtil-1.4.0-cp36-none-any.whl size=7411 sha256=82e32a43d4416561518d857660cb3052983835188e58a864e8ea4aeba4865490\n",
            "  Stored in directory: /root/.cache/pip/wheels/3d/77/07/80562de4bb0786e5ea186911a2c831fdd0018bda69beab71fd\n",
            "Successfully built gputil\n",
            "Installing collected packages: gputil\n",
            "Successfully installed gputil-1.4.0\n",
            "Requirement already satisfied: psutil in /usr/local/lib/python3.6/dist-packages (5.4.8)\n",
            "Requirement already satisfied: humanize in /usr/local/lib/python3.6/dist-packages (0.5.1)\n",
            "Gen RAM Free: 12.9 GB  | Proc size: 154.5 MB\n",
            "GPU RAM Free: 15079MB | Used: 0MB | Util   0% | Total 15079MB\n"
          ],
          "name": "stdout"
        }
      ]
    },
    {
      "cell_type": "code",
      "metadata": {
        "id": "8ttMaGVeHgXm",
        "colab_type": "code",
        "colab": {}
      },
      "source": [
        "!kill -9 -1"
      ],
      "execution_count": 0,
      "outputs": []
    },
    {
      "cell_type": "markdown",
      "metadata": {
        "id": "fpRZV6HmKtzn",
        "colab_type": "text"
      },
      "source": [
        "**Import Movie Dataset**"
      ]
    },
    {
      "cell_type": "code",
      "metadata": {
        "id": "VmrT5rZZFxF6",
        "colab_type": "code",
        "outputId": "d3ce6a1f-7b91-42b5-9bd3-7936ffe22b93",
        "colab": {
          "base_uri": "https://localhost:8080/",
          "height": 53
        }
      },
      "source": [
        "!pip install -U -q PyDrive\n",
        "from pydrive.auth import GoogleAuth\n",
        "from pydrive.drive import GoogleDrive\n",
        "from google.colab import auth\n",
        "from oauth2client.client import GoogleCredentials"
      ],
      "execution_count": 2,
      "outputs": [
        {
          "output_type": "stream",
          "text": [
            "\u001b[?25l\r\u001b[K     |▎                               | 10kB 19.8MB/s eta 0:00:01\r\u001b[K     |▋                               | 20kB 26.6MB/s eta 0:00:01\r\u001b[K     |█                               | 30kB 31.5MB/s eta 0:00:01\r\u001b[K     |█▎                              | 40kB 35.3MB/s eta 0:00:01\r\u001b[K     |█▋                              | 51kB 37.6MB/s eta 0:00:01\r\u001b[K     |██                              | 61kB 40.7MB/s eta 0:00:01\r\u001b[K     |██▎                             | 71kB 40.8MB/s eta 0:00:01\r\u001b[K     |██▋                             | 81kB 42.0MB/s eta 0:00:01\r\u001b[K     |███                             | 92kB 43.6MB/s eta 0:00:01\r\u001b[K     |███▎                            | 102kB 44.5MB/s eta 0:00:01\r\u001b[K     |███▋                            | 112kB 44.5MB/s eta 0:00:01\r\u001b[K     |████                            | 122kB 44.5MB/s eta 0:00:01\r\u001b[K     |████▎                           | 133kB 44.5MB/s eta 0:00:01\r\u001b[K     |████▋                           | 143kB 44.5MB/s eta 0:00:01\r\u001b[K     |█████                           | 153kB 44.5MB/s eta 0:00:01\r\u001b[K     |█████▎                          | 163kB 44.5MB/s eta 0:00:01\r\u001b[K     |█████▋                          | 174kB 44.5MB/s eta 0:00:01\r\u001b[K     |██████                          | 184kB 44.5MB/s eta 0:00:01\r\u001b[K     |██████▎                         | 194kB 44.5MB/s eta 0:00:01\r\u001b[K     |██████▋                         | 204kB 44.5MB/s eta 0:00:01\r\u001b[K     |███████                         | 215kB 44.5MB/s eta 0:00:01\r\u001b[K     |███████▎                        | 225kB 44.5MB/s eta 0:00:01\r\u001b[K     |███████▋                        | 235kB 44.5MB/s eta 0:00:01\r\u001b[K     |████████                        | 245kB 44.5MB/s eta 0:00:01\r\u001b[K     |████████▎                       | 256kB 44.5MB/s eta 0:00:01\r\u001b[K     |████████▋                       | 266kB 44.5MB/s eta 0:00:01\r\u001b[K     |█████████                       | 276kB 44.5MB/s eta 0:00:01\r\u001b[K     |█████████▎                      | 286kB 44.5MB/s eta 0:00:01\r\u001b[K     |█████████▋                      | 296kB 44.5MB/s eta 0:00:01\r\u001b[K     |██████████                      | 307kB 44.5MB/s eta 0:00:01\r\u001b[K     |██████████▎                     | 317kB 44.5MB/s eta 0:00:01\r\u001b[K     |██████████▋                     | 327kB 44.5MB/s eta 0:00:01\r\u001b[K     |███████████                     | 337kB 44.5MB/s eta 0:00:01\r\u001b[K     |███████████▎                    | 348kB 44.5MB/s eta 0:00:01\r\u001b[K     |███████████▋                    | 358kB 44.5MB/s eta 0:00:01\r\u001b[K     |████████████                    | 368kB 44.5MB/s eta 0:00:01\r\u001b[K     |████████████▎                   | 378kB 44.5MB/s eta 0:00:01\r\u001b[K     |████████████▋                   | 389kB 44.5MB/s eta 0:00:01\r\u001b[K     |█████████████                   | 399kB 44.5MB/s eta 0:00:01\r\u001b[K     |█████████████▎                  | 409kB 44.5MB/s eta 0:00:01\r\u001b[K     |█████████████▋                  | 419kB 44.5MB/s eta 0:00:01\r\u001b[K     |██████████████                  | 430kB 44.5MB/s eta 0:00:01\r\u001b[K     |██████████████▎                 | 440kB 44.5MB/s eta 0:00:01\r\u001b[K     |██████████████▋                 | 450kB 44.5MB/s eta 0:00:01\r\u001b[K     |███████████████                 | 460kB 44.5MB/s eta 0:00:01\r\u001b[K     |███████████████▎                | 471kB 44.5MB/s eta 0:00:01\r\u001b[K     |███████████████▋                | 481kB 44.5MB/s eta 0:00:01\r\u001b[K     |████████████████                | 491kB 44.5MB/s eta 0:00:01\r\u001b[K     |████████████████▎               | 501kB 44.5MB/s eta 0:00:01\r\u001b[K     |████████████████▋               | 512kB 44.5MB/s eta 0:00:01\r\u001b[K     |█████████████████               | 522kB 44.5MB/s eta 0:00:01\r\u001b[K     |█████████████████▎              | 532kB 44.5MB/s eta 0:00:01\r\u001b[K     |█████████████████▋              | 542kB 44.5MB/s eta 0:00:01\r\u001b[K     |██████████████████              | 552kB 44.5MB/s eta 0:00:01\r\u001b[K     |██████████████████▎             | 563kB 44.5MB/s eta 0:00:01\r\u001b[K     |██████████████████▋             | 573kB 44.5MB/s eta 0:00:01\r\u001b[K     |███████████████████             | 583kB 44.5MB/s eta 0:00:01\r\u001b[K     |███████████████████▎            | 593kB 44.5MB/s eta 0:00:01\r\u001b[K     |███████████████████▋            | 604kB 44.5MB/s eta 0:00:01\r\u001b[K     |████████████████████            | 614kB 44.5MB/s eta 0:00:01\r\u001b[K     |████████████████████▎           | 624kB 44.5MB/s eta 0:00:01\r\u001b[K     |████████████████████▋           | 634kB 44.5MB/s eta 0:00:01\r\u001b[K     |█████████████████████           | 645kB 44.5MB/s eta 0:00:01\r\u001b[K     |█████████████████████▎          | 655kB 44.5MB/s eta 0:00:01\r\u001b[K     |█████████████████████▋          | 665kB 44.5MB/s eta 0:00:01\r\u001b[K     |██████████████████████          | 675kB 44.5MB/s eta 0:00:01\r\u001b[K     |██████████████████████▎         | 686kB 44.5MB/s eta 0:00:01\r\u001b[K     |██████████████████████▋         | 696kB 44.5MB/s eta 0:00:01\r\u001b[K     |███████████████████████         | 706kB 44.5MB/s eta 0:00:01\r\u001b[K     |███████████████████████▎        | 716kB 44.5MB/s eta 0:00:01\r\u001b[K     |███████████████████████▋        | 727kB 44.5MB/s eta 0:00:01\r\u001b[K     |████████████████████████        | 737kB 44.5MB/s eta 0:00:01\r\u001b[K     |████████████████████████▎       | 747kB 44.5MB/s eta 0:00:01\r\u001b[K     |████████████████████████▋       | 757kB 44.5MB/s eta 0:00:01\r\u001b[K     |████████████████████████▉       | 768kB 44.5MB/s eta 0:00:01\r\u001b[K     |█████████████████████████▏      | 778kB 44.5MB/s eta 0:00:01\r\u001b[K     |█████████████████████████▌      | 788kB 44.5MB/s eta 0:00:01\r\u001b[K     |█████████████████████████▉      | 798kB 44.5MB/s eta 0:00:01\r\u001b[K     |██████████████████████████▏     | 808kB 44.5MB/s eta 0:00:01\r\u001b[K     |██████████████████████████▌     | 819kB 44.5MB/s eta 0:00:01\r\u001b[K     |██████████████████████████▉     | 829kB 44.5MB/s eta 0:00:01\r\u001b[K     |███████████████████████████▏    | 839kB 44.5MB/s eta 0:00:01\r\u001b[K     |███████████████████████████▌    | 849kB 44.5MB/s eta 0:00:01\r\u001b[K     |███████████████████████████▉    | 860kB 44.5MB/s eta 0:00:01\r\u001b[K     |████████████████████████████▏   | 870kB 44.5MB/s eta 0:00:01\r\u001b[K     |████████████████████████████▌   | 880kB 44.5MB/s eta 0:00:01\r\u001b[K     |████████████████████████████▉   | 890kB 44.5MB/s eta 0:00:01\r\u001b[K     |█████████████████████████████▏  | 901kB 44.5MB/s eta 0:00:01\r\u001b[K     |█████████████████████████████▌  | 911kB 44.5MB/s eta 0:00:01\r\u001b[K     |█████████████████████████████▉  | 921kB 44.5MB/s eta 0:00:01\r\u001b[K     |██████████████████████████████▏ | 931kB 44.5MB/s eta 0:00:01\r\u001b[K     |██████████████████████████████▌ | 942kB 44.5MB/s eta 0:00:01\r\u001b[K     |██████████████████████████████▉ | 952kB 44.5MB/s eta 0:00:01\r\u001b[K     |███████████████████████████████▏| 962kB 44.5MB/s eta 0:00:01\r\u001b[K     |███████████████████████████████▌| 972kB 44.5MB/s eta 0:00:01\r\u001b[K     |███████████████████████████████▉| 983kB 44.5MB/s eta 0:00:01\r\u001b[K     |████████████████████████████████| 993kB 44.5MB/s \n",
            "\u001b[?25h  Building wheel for PyDrive (setup.py) ... \u001b[?25l\u001b[?25hdone\n"
          ],
          "name": "stdout"
        }
      ]
    },
    {
      "cell_type": "code",
      "metadata": {
        "id": "_U0cJByJIdld",
        "colab_type": "code",
        "colab": {}
      },
      "source": [
        "auth.authenticate_user()\n",
        "gauth = GoogleAuth()\n",
        "gauth.credentials = GoogleCredentials.get_application_default()\n",
        "drive = GoogleDrive(gauth)"
      ],
      "execution_count": 0,
      "outputs": []
    },
    {
      "cell_type": "code",
      "metadata": {
        "id": "oVwOwW64J3t-",
        "colab_type": "code",
        "colab": {}
      },
      "source": [
        "link=\"https://drive.google.com/open?id=1PU97Jmwme5on1FpjD65z3nZHWX37amiD\""
      ],
      "execution_count": 0,
      "outputs": []
    },
    {
      "cell_type": "code",
      "metadata": {
        "id": "SIUocm4IJ8E4",
        "colab_type": "code",
        "colab": {}
      },
      "source": [
        "fluff,id=link.split('=')"
      ],
      "execution_count": 0,
      "outputs": []
    },
    {
      "cell_type": "code",
      "metadata": {
        "id": "SMGSwsvmKEIJ",
        "colab_type": "code",
        "outputId": "7ebf412f-65aa-4f06-e751-4650583a6bab",
        "colab": {
          "base_uri": "https://localhost:8080/",
          "height": 1000
        }
      },
      "source": [
        "import pandas as pd\n",
        "downloaded = drive.CreateFile({'id':id}) \n",
        "downloaded.GetContentFile('dataset.csv')  \n",
        "df = pd.read_csv('dataset.csv',engine='python')\n",
        "df"
      ],
      "execution_count": 7,
      "outputs": [
        {
          "output_type": "execute_result",
          "data": {
            "text/html": [
              "<div>\n",
              "<style scoped>\n",
              "    .dataframe tbody tr th:only-of-type {\n",
              "        vertical-align: middle;\n",
              "    }\n",
              "\n",
              "    .dataframe tbody tr th {\n",
              "        vertical-align: top;\n",
              "    }\n",
              "\n",
              "    .dataframe thead th {\n",
              "        text-align: right;\n",
              "    }\n",
              "</style>\n",
              "<table border=\"1\" class=\"dataframe\">\n",
              "  <thead>\n",
              "    <tr style=\"text-align: right;\">\n",
              "      <th></th>\n",
              "      <th>SentimentText</th>\n",
              "      <th>Sentiment</th>\n",
              "    </tr>\n",
              "  </thead>\n",
              "  <tbody>\n",
              "    <tr>\n",
              "      <th>0</th>\n",
              "      <td>first think another Disney movie, might good, ...</td>\n",
              "      <td>1</td>\n",
              "    </tr>\n",
              "    <tr>\n",
              "      <th>1</th>\n",
              "      <td>Put aside Dr. House repeat missed, Desperate H...</td>\n",
              "      <td>0</td>\n",
              "    </tr>\n",
              "    <tr>\n",
              "      <th>2</th>\n",
              "      <td>big fan Stephen King's work, film made even gr...</td>\n",
              "      <td>1</td>\n",
              "    </tr>\n",
              "    <tr>\n",
              "      <th>3</th>\n",
              "      <td>watched horrid thing TV. Needless say one movi...</td>\n",
              "      <td>0</td>\n",
              "    </tr>\n",
              "    <tr>\n",
              "      <th>4</th>\n",
              "      <td>truly enjoyed film. acting terrific plot. Jeff...</td>\n",
              "      <td>1</td>\n",
              "    </tr>\n",
              "    <tr>\n",
              "      <th>5</th>\n",
              "      <td>memory \"The Last Hunt\" stuck since saw 1956 13...</td>\n",
              "      <td>1</td>\n",
              "    </tr>\n",
              "    <tr>\n",
              "      <th>6</th>\n",
              "      <td>Shakespeare fan, appreciate Ken Branagh done b...</td>\n",
              "      <td>0</td>\n",
              "    </tr>\n",
              "    <tr>\n",
              "      <th>7</th>\n",
              "      <td>privilege watching Scarface big screen beautif...</td>\n",
              "      <td>1</td>\n",
              "    </tr>\n",
              "    <tr>\n",
              "      <th>8</th>\n",
              "      <td>real classic. shipload sailors trying get town...</td>\n",
              "      <td>1</td>\n",
              "    </tr>\n",
              "    <tr>\n",
              "      <th>9</th>\n",
              "      <td>Serials short subjects originally shown theate...</td>\n",
              "      <td>1</td>\n",
              "    </tr>\n",
              "    <tr>\n",
              "      <th>10</th>\n",
              "      <td>strange sex comedy there`s little comedy whole...</td>\n",
              "      <td>0</td>\n",
              "    </tr>\n",
              "    <tr>\n",
              "      <th>11</th>\n",
              "      <td>many problems film, worst continuity; re-editi...</td>\n",
              "      <td>0</td>\n",
              "    </tr>\n",
              "    <tr>\n",
              "      <th>12</th>\n",
              "      <td>Rosie wasted lot TV time talking Tainos super ...</td>\n",
              "      <td>0</td>\n",
              "    </tr>\n",
              "    <tr>\n",
              "      <th>13</th>\n",
              "      <td>Man, people got chill. movie artistic genius. ...</td>\n",
              "      <td>1</td>\n",
              "    </tr>\n",
              "    <tr>\n",
              "      <th>14</th>\n",
              "      <td>great movie could Soylent Green. scenes people...</td>\n",
              "      <td>1</td>\n",
              "    </tr>\n",
              "    <tr>\n",
              "      <th>15</th>\n",
              "      <td>Wonderful family drama/comedy starring MacClai...</td>\n",
              "      <td>1</td>\n",
              "    </tr>\n",
              "    <tr>\n",
              "      <th>16</th>\n",
              "      <td>\"Ko tamo peva\" one best films ever saw. tragic...</td>\n",
              "      <td>1</td>\n",
              "    </tr>\n",
              "    <tr>\n",
              "      <th>17</th>\n",
              "      <td>quite long time life, either like film, liked ...</td>\n",
              "      <td>1</td>\n",
              "    </tr>\n",
              "    <tr>\n",
              "      <th>18</th>\n",
              "      <td>\"Kolchak\" TV series really didn't fit category...</td>\n",
              "      <td>1</td>\n",
              "    </tr>\n",
              "    <tr>\n",
              "      <th>19</th>\n",
              "      <td>It's rare find literary work adequately transl...</td>\n",
              "      <td>1</td>\n",
              "    </tr>\n",
              "    <tr>\n",
              "      <th>20</th>\n",
              "      <td>awful, awful! old room mate used watch junk dr...</td>\n",
              "      <td>0</td>\n",
              "    </tr>\n",
              "    <tr>\n",
              "      <th>21</th>\n",
              "      <td>mom recently become addicted show, laughing bu...</td>\n",
              "      <td>1</td>\n",
              "    </tr>\n",
              "    <tr>\n",
              "      <th>22</th>\n",
              "      <td>okay, plain dumb. bad horror/comedy film. read...</td>\n",
              "      <td>1</td>\n",
              "    </tr>\n",
              "    <tr>\n",
              "      <th>23</th>\n",
              "      <td>film mesmerizing beauty creativity. artist's p...</td>\n",
              "      <td>1</td>\n",
              "    </tr>\n",
              "    <tr>\n",
              "      <th>24</th>\n",
              "      <td>Filmfour going lot better little snot film the...</td>\n",
              "      <td>0</td>\n",
              "    </tr>\n",
              "    <tr>\n",
              "      <th>25</th>\n",
              "      <td>60s (1999) D: Mark Piznarski. Josh Hamilton, J...</td>\n",
              "      <td>0</td>\n",
              "    </tr>\n",
              "    <tr>\n",
              "      <th>26</th>\n",
              "      <td>show suck? Unfortunately, really question, dou...</td>\n",
              "      <td>0</td>\n",
              "    </tr>\n",
              "    <tr>\n",
              "      <th>27</th>\n",
              "      <td>Sometimes want laugh. Don't you? analyzing, cr...</td>\n",
              "      <td>1</td>\n",
              "    </tr>\n",
              "    <tr>\n",
              "      <th>28</th>\n",
              "      <td>anti-bush jokes get really easy do, show like ...</td>\n",
              "      <td>0</td>\n",
              "    </tr>\n",
              "    <tr>\n",
              "      <th>29</th>\n",
              "      <td>others noted, excellent Hammer-style film, see...</td>\n",
              "      <td>0</td>\n",
              "    </tr>\n",
              "    <tr>\n",
              "      <th>...</th>\n",
              "      <td>...</td>\n",
              "      <td>...</td>\n",
              "    </tr>\n",
              "    <tr>\n",
              "      <th>24970</th>\n",
              "      <td>almost ideal romantic anime! MUST SEE AGES! En...</td>\n",
              "      <td>1</td>\n",
              "    </tr>\n",
              "    <tr>\n",
              "      <th>24971</th>\n",
              "      <td>Unfortunately, film long unavailable (as poste...</td>\n",
              "      <td>1</td>\n",
              "    </tr>\n",
              "    <tr>\n",
              "      <th>24972</th>\n",
              "      <td>**1/2 Diane Keaton farce.&lt;br /&gt;&lt;br /&gt;Someone t...</td>\n",
              "      <td>0</td>\n",
              "    </tr>\n",
              "    <tr>\n",
              "      <th>24973</th>\n",
              "      <td>Film looking glass see world new light. Good N...</td>\n",
              "      <td>1</td>\n",
              "    </tr>\n",
              "    <tr>\n",
              "      <th>24974</th>\n",
              "      <td>empty lack lustre rendition classic novel. wis...</td>\n",
              "      <td>0</td>\n",
              "    </tr>\n",
              "    <tr>\n",
              "      <th>24975</th>\n",
              "      <td>movie good example extreme lack good writers d...</td>\n",
              "      <td>0</td>\n",
              "    </tr>\n",
              "    <tr>\n",
              "      <th>24976</th>\n",
              "      <td>movie really great flick something affects us ...</td>\n",
              "      <td>1</td>\n",
              "    </tr>\n",
              "    <tr>\n",
              "      <th>24977</th>\n",
              "      <td>Darkling interesting entertaining film F. Murr...</td>\n",
              "      <td>0</td>\n",
              "    </tr>\n",
              "    <tr>\n",
              "      <th>24978</th>\n",
              "      <td>Marlon Brando Frank Sinatra HATED film years f...</td>\n",
              "      <td>1</td>\n",
              "    </tr>\n",
              "    <tr>\n",
              "      <th>24979</th>\n",
              "      <td>2004, liked it. became stupid. suggests kids b...</td>\n",
              "      <td>0</td>\n",
              "    </tr>\n",
              "    <tr>\n",
              "      <th>24980</th>\n",
              "      <td>avoid making type film future. film interestin...</td>\n",
              "      <td>0</td>\n",
              "    </tr>\n",
              "    <tr>\n",
              "      <th>24981</th>\n",
              "      <td>Wow... 5 hours Riget. Lars continues great com...</td>\n",
              "      <td>1</td>\n",
              "    </tr>\n",
              "    <tr>\n",
              "      <th>24982</th>\n",
              "      <td>Marvelous James Stewart, Vera Miles vehicle. m...</td>\n",
              "      <td>1</td>\n",
              "    </tr>\n",
              "    <tr>\n",
              "      <th>24983</th>\n",
              "      <td>characters depth-less rip offs. you've seen ch...</td>\n",
              "      <td>0</td>\n",
              "    </tr>\n",
              "    <tr>\n",
              "      <th>24984</th>\n",
              "      <td>countless talking-animal films past, majority ...</td>\n",
              "      <td>1</td>\n",
              "    </tr>\n",
              "    <tr>\n",
              "      <th>24985</th>\n",
              "      <td>absurdist dark comedy Belgium. Shot perfectly ...</td>\n",
              "      <td>1</td>\n",
              "    </tr>\n",
              "    <tr>\n",
              "      <th>24986</th>\n",
              "      <td>nice see Suraj Barjatya back best at.A story w...</td>\n",
              "      <td>1</td>\n",
              "    </tr>\n",
              "    <tr>\n",
              "      <th>24987</th>\n",
              "      <td>movie poorly written, poorly acted predictable...</td>\n",
              "      <td>0</td>\n",
              "    </tr>\n",
              "    <tr>\n",
              "      <th>24988</th>\n",
              "      <td>unpretentious Horror film probably destined be...</td>\n",
              "      <td>1</td>\n",
              "    </tr>\n",
              "    <tr>\n",
              "      <th>24989</th>\n",
              "      <td>saw Saving Grace right came video. Since it's ...</td>\n",
              "      <td>1</td>\n",
              "    </tr>\n",
              "    <tr>\n",
              "      <th>24990</th>\n",
              "      <td>Taking old collection stories poses challenge ...</td>\n",
              "      <td>1</td>\n",
              "    </tr>\n",
              "    <tr>\n",
              "      <th>24991</th>\n",
              "      <td>movie made want become director, Michelle Rodr...</td>\n",
              "      <td>1</td>\n",
              "    </tr>\n",
              "    <tr>\n",
              "      <th>24992</th>\n",
              "      <td>video thing. think fourth attempt managed watc...</td>\n",
              "      <td>0</td>\n",
              "    </tr>\n",
              "    <tr>\n",
              "      <th>24993</th>\n",
              "      <td>almost typical Lynch. However, makes film slig...</td>\n",
              "      <td>1</td>\n",
              "    </tr>\n",
              "    <tr>\n",
              "      <th>24994</th>\n",
              "      <td>really must caught different film rest comment...</td>\n",
              "      <td>0</td>\n",
              "    </tr>\n",
              "    <tr>\n",
              "      <th>24995</th>\n",
              "      <td>kid 50's 60's anything connected Disney defini...</td>\n",
              "      <td>0</td>\n",
              "    </tr>\n",
              "    <tr>\n",
              "      <th>24996</th>\n",
              "      <td>course reading review seen film already. 'Raja...</td>\n",
              "      <td>1</td>\n",
              "    </tr>\n",
              "    <tr>\n",
              "      <th>24997</th>\n",
              "      <td>read \"There's Girl Soup\" came Peter Sellers's ...</td>\n",
              "      <td>0</td>\n",
              "    </tr>\n",
              "    <tr>\n",
              "      <th>24998</th>\n",
              "      <td>film quite boring. snippets naked flesh tossed...</td>\n",
              "      <td>0</td>\n",
              "    </tr>\n",
              "    <tr>\n",
              "      <th>24999</th>\n",
              "      <td>Although film somewhat filled eighties cheese ...</td>\n",
              "      <td>1</td>\n",
              "    </tr>\n",
              "  </tbody>\n",
              "</table>\n",
              "<p>25000 rows × 2 columns</p>\n",
              "</div>"
            ],
            "text/plain": [
              "                                           SentimentText  Sentiment\n",
              "0      first think another Disney movie, might good, ...          1\n",
              "1      Put aside Dr. House repeat missed, Desperate H...          0\n",
              "2      big fan Stephen King's work, film made even gr...          1\n",
              "3      watched horrid thing TV. Needless say one movi...          0\n",
              "4      truly enjoyed film. acting terrific plot. Jeff...          1\n",
              "5      memory \"The Last Hunt\" stuck since saw 1956 13...          1\n",
              "6      Shakespeare fan, appreciate Ken Branagh done b...          0\n",
              "7      privilege watching Scarface big screen beautif...          1\n",
              "8      real classic. shipload sailors trying get town...          1\n",
              "9      Serials short subjects originally shown theate...          1\n",
              "10     strange sex comedy there`s little comedy whole...          0\n",
              "11     many problems film, worst continuity; re-editi...          0\n",
              "12     Rosie wasted lot TV time talking Tainos super ...          0\n",
              "13     Man, people got chill. movie artistic genius. ...          1\n",
              "14     great movie could Soylent Green. scenes people...          1\n",
              "15     Wonderful family drama/comedy starring MacClai...          1\n",
              "16     \"Ko tamo peva\" one best films ever saw. tragic...          1\n",
              "17     quite long time life, either like film, liked ...          1\n",
              "18     \"Kolchak\" TV series really didn't fit category...          1\n",
              "19     It's rare find literary work adequately transl...          1\n",
              "20     awful, awful! old room mate used watch junk dr...          0\n",
              "21     mom recently become addicted show, laughing bu...          1\n",
              "22     okay, plain dumb. bad horror/comedy film. read...          1\n",
              "23     film mesmerizing beauty creativity. artist's p...          1\n",
              "24     Filmfour going lot better little snot film the...          0\n",
              "25     60s (1999) D: Mark Piznarski. Josh Hamilton, J...          0\n",
              "26     show suck? Unfortunately, really question, dou...          0\n",
              "27     Sometimes want laugh. Don't you? analyzing, cr...          1\n",
              "28     anti-bush jokes get really easy do, show like ...          0\n",
              "29     others noted, excellent Hammer-style film, see...          0\n",
              "...                                                  ...        ...\n",
              "24970  almost ideal romantic anime! MUST SEE AGES! En...          1\n",
              "24971  Unfortunately, film long unavailable (as poste...          1\n",
              "24972  **1/2 Diane Keaton farce.<br /><br />Someone t...          0\n",
              "24973  Film looking glass see world new light. Good N...          1\n",
              "24974  empty lack lustre rendition classic novel. wis...          0\n",
              "24975  movie good example extreme lack good writers d...          0\n",
              "24976  movie really great flick something affects us ...          1\n",
              "24977  Darkling interesting entertaining film F. Murr...          0\n",
              "24978  Marlon Brando Frank Sinatra HATED film years f...          1\n",
              "24979  2004, liked it. became stupid. suggests kids b...          0\n",
              "24980  avoid making type film future. film interestin...          0\n",
              "24981  Wow... 5 hours Riget. Lars continues great com...          1\n",
              "24982  Marvelous James Stewart, Vera Miles vehicle. m...          1\n",
              "24983  characters depth-less rip offs. you've seen ch...          0\n",
              "24984  countless talking-animal films past, majority ...          1\n",
              "24985  absurdist dark comedy Belgium. Shot perfectly ...          1\n",
              "24986  nice see Suraj Barjatya back best at.A story w...          1\n",
              "24987  movie poorly written, poorly acted predictable...          0\n",
              "24988  unpretentious Horror film probably destined be...          1\n",
              "24989  saw Saving Grace right came video. Since it's ...          1\n",
              "24990  Taking old collection stories poses challenge ...          1\n",
              "24991  movie made want become director, Michelle Rodr...          1\n",
              "24992  video thing. think fourth attempt managed watc...          0\n",
              "24993  almost typical Lynch. However, makes film slig...          1\n",
              "24994  really must caught different film rest comment...          0\n",
              "24995  kid 50's 60's anything connected Disney defini...          0\n",
              "24996  course reading review seen film already. 'Raja...          1\n",
              "24997  read \"There's Girl Soup\" came Peter Sellers's ...          0\n",
              "24998  film quite boring. snippets naked flesh tossed...          0\n",
              "24999  Although film somewhat filled eighties cheese ...          1\n",
              "\n",
              "[25000 rows x 2 columns]"
            ]
          },
          "metadata": {
            "tags": []
          },
          "execution_count": 7
        }
      ]
    },
    {
      "cell_type": "markdown",
      "metadata": {
        "id": "vOyKpjh-K8mU",
        "colab_type": "text"
      },
      "source": [
        "**Dataset Information and Description**"
      ]
    },
    {
      "cell_type": "code",
      "metadata": {
        "id": "G1Nm8uKaLHjO",
        "colab_type": "code",
        "outputId": "71eb147d-f0d7-4d0a-e981-ca7137361bac",
        "colab": {
          "base_uri": "https://localhost:8080/",
          "height": 144
        }
      },
      "source": [
        "df.info()"
      ],
      "execution_count": 8,
      "outputs": [
        {
          "output_type": "stream",
          "text": [
            "<class 'pandas.core.frame.DataFrame'>\n",
            "RangeIndex: 25000 entries, 0 to 24999\n",
            "Data columns (total 2 columns):\n",
            "SentimentText    25000 non-null object\n",
            "Sentiment        25000 non-null int64\n",
            "dtypes: int64(1), object(1)\n",
            "memory usage: 390.7+ KB\n"
          ],
          "name": "stdout"
        }
      ]
    },
    {
      "cell_type": "markdown",
      "metadata": {
        "id": "fbmT5oliPEWP",
        "colab_type": "text"
      },
      "source": [
        "**Number of Positive And Negative Reviews**"
      ]
    },
    {
      "cell_type": "code",
      "metadata": {
        "id": "ZdU1vV-OPOjX",
        "colab_type": "code",
        "outputId": "9dc8ed40-6d9c-499e-9ec5-7ba1e4d9dd80",
        "colab": {
          "base_uri": "https://localhost:8080/",
          "height": 90
        }
      },
      "source": [
        "print(\"Number of Positive And Negative Reviews:\\n\",df.Sentiment.value_counts())"
      ],
      "execution_count": 9,
      "outputs": [
        {
          "output_type": "stream",
          "text": [
            "Number of Positive And Negative Reviews:\n",
            " 1    12500\n",
            "0    12500\n",
            "Name: Sentiment, dtype: int64\n"
          ],
          "name": "stdout"
        }
      ]
    },
    {
      "cell_type": "markdown",
      "metadata": {
        "id": "jZ4ShqdLR4ZS",
        "colab_type": "text"
      },
      "source": [
        "**Finding Longest And Shortest Review**"
      ]
    },
    {
      "cell_type": "code",
      "metadata": {
        "id": "LGQE3lA_R-pZ",
        "colab_type": "code",
        "outputId": "c328b505-47b3-45a6-9141-33df70750b7c",
        "colab": {
          "base_uri": "https://localhost:8080/",
          "height": 53
        }
      },
      "source": [
        "rev_len = df.SentimentText.str.len()\n",
        "print(\"Longest Review:\",max(rev_len))\n",
        "print(\"Shortest Review:\",min(rev_len))"
      ],
      "execution_count": 10,
      "outputs": [
        {
          "output_type": "stream",
          "text": [
            "Longest Review: 9836\n",
            "Shortest Review: 7\n"
          ],
          "name": "stdout"
        }
      ]
    },
    {
      "cell_type": "markdown",
      "metadata": {
        "id": "L0wlFd5gTHeP",
        "colab_type": "text"
      },
      "source": [
        " **Spliting Positive and Negative reviews According to Polarity of the Sentiments**"
      ]
    },
    {
      "cell_type": "code",
      "metadata": {
        "id": "zHf2UWQBTd9O",
        "colab_type": "code",
        "colab": {}
      },
      "source": [
        "from textblob import TextBlob"
      ],
      "execution_count": 0,
      "outputs": []
    },
    {
      "cell_type": "code",
      "metadata": {
        "id": "KGp9Bd8lTG0M",
        "colab_type": "code",
        "colab": {}
      },
      "source": [
        "positive_review=\"\"\n",
        "negative_review=\"\"\n",
        "\n",
        "for review in df.SentimentText:\n",
        "  blob_rev=TextBlob(review)\n",
        "  if (blob_rev.sentiment.polarity>0.50):\n",
        "    positive_review=positive_review+review\n",
        "  else:\n",
        "    negative_review=negative_review+review"
      ],
      "execution_count": 0,
      "outputs": []
    }
  ]
}